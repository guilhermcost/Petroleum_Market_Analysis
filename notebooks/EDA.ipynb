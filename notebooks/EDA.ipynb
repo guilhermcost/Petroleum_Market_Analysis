{
 "cells": [
  {
   "cell_type": "markdown",
   "metadata": {},
   "source": [
    "## 1. Importação das Bibliotecas"
   ]
  },
  {
   "cell_type": "code",
   "execution_count": 2,
   "metadata": {},
   "outputs": [],
   "source": [
    "#Importação das bibliotecas\n",
    "import pandas as pd\n",
    "import plotly.express as px"
   ]
  },
  {
   "cell_type": "markdown",
   "metadata": {},
   "source": [
    "## 2. Leitura dos Dados"
   ]
  },
  {
   "cell_type": "code",
   "execution_count": 52,
   "metadata": {},
   "outputs": [
    {
     "data": {
      "text/html": [
       "<div>\n",
       "<style scoped>\n",
       "    .dataframe tbody tr th:only-of-type {\n",
       "        vertical-align: middle;\n",
       "    }\n",
       "\n",
       "    .dataframe tbody tr th {\n",
       "        vertical-align: top;\n",
       "    }\n",
       "\n",
       "    .dataframe thead th {\n",
       "        text-align: right;\n",
       "    }\n",
       "</style>\n",
       "<table border=\"1\" class=\"dataframe\">\n",
       "  <thead>\n",
       "    <tr style=\"text-align: right;\">\n",
       "      <th></th>\n",
       "      <th>POÇO ANP</th>\n",
       "      <th>BLOCO</th>\n",
       "      <th>BACIA</th>\n",
       "      <th>ESTADO</th>\n",
       "      <th>AMBIENTE</th>\n",
       "      <th>OPERADOR</th>\n",
       "      <th>INÍCIO DA PERFURAÇÃO</th>\n",
       "      <th>CONCLUSÃO DO POÇO</th>\n",
       "      <th>NOTIFICAÇÃO DE DESCOBERTA ?</th>\n",
       "      <th>DATA DA NOTIFICAÇÃO DE DESCOBERTA</th>\n",
       "    </tr>\n",
       "  </thead>\n",
       "  <tbody>\n",
       "    <tr>\n",
       "      <th>0</th>\n",
       "      <td>3-ENV-41D-AM</td>\n",
       "      <td>AM-T-85</td>\n",
       "      <td>Amazonas</td>\n",
       "      <td>AM</td>\n",
       "      <td>TERRA</td>\n",
       "      <td>Eneva</td>\n",
       "      <td>29/04/2023</td>\n",
       "      <td>NaN</td>\n",
       "      <td>Não</td>\n",
       "      <td>NaN</td>\n",
       "    </tr>\n",
       "    <tr>\n",
       "      <th>1</th>\n",
       "      <td>1-BGM-9-ES</td>\n",
       "      <td>ES-T-345</td>\n",
       "      <td>Espírito Santo</td>\n",
       "      <td>ES</td>\n",
       "      <td>TERRA</td>\n",
       "      <td>BGM</td>\n",
       "      <td>22/04/2023</td>\n",
       "      <td>NaN</td>\n",
       "      <td>Não</td>\n",
       "      <td>NaN</td>\n",
       "    </tr>\n",
       "    <tr>\n",
       "      <th>2</th>\n",
       "      <td>3-ENV-40D-AM</td>\n",
       "      <td>AM-T-85</td>\n",
       "      <td>Amazonas</td>\n",
       "      <td>AM</td>\n",
       "      <td>TERRA</td>\n",
       "      <td>Eneva</td>\n",
       "      <td>31/03/2023</td>\n",
       "      <td>23/04/2023</td>\n",
       "      <td>Sim</td>\n",
       "      <td>24/04/2023</td>\n",
       "    </tr>\n",
       "    <tr>\n",
       "      <th>3</th>\n",
       "      <td>3-BRSA-1387D-SPS</td>\n",
       "      <td>ARAM</td>\n",
       "      <td>Santos</td>\n",
       "      <td>SP</td>\n",
       "      <td>MAR</td>\n",
       "      <td>Petrobras</td>\n",
       "      <td>18/03/2023</td>\n",
       "      <td>NaN</td>\n",
       "      <td>Não</td>\n",
       "      <td>NaN</td>\n",
       "    </tr>\n",
       "    <tr>\n",
       "      <th>4</th>\n",
       "      <td>3-ENV-39D-AM</td>\n",
       "      <td>AM-T-85</td>\n",
       "      <td>Amazonas</td>\n",
       "      <td>AM</td>\n",
       "      <td>TERRA</td>\n",
       "      <td>Eneva</td>\n",
       "      <td>18/02/2023</td>\n",
       "      <td>26/03/2023</td>\n",
       "      <td>Sim</td>\n",
       "      <td>28/03/2023</td>\n",
       "    </tr>\n",
       "  </tbody>\n",
       "</table>\n",
       "</div>"
      ],
      "text/plain": [
       "           POÇO ANP     BLOCO           BACIA ESTADO AMBIENTE   OPERADOR  \\\n",
       "0      3-ENV-41D-AM   AM-T-85        Amazonas     AM    TERRA      Eneva   \n",
       "1        1-BGM-9-ES  ES-T-345  Espírito Santo     ES    TERRA        BGM   \n",
       "2      3-ENV-40D-AM   AM-T-85        Amazonas     AM    TERRA      Eneva   \n",
       "3  3-BRSA-1387D-SPS      ARAM          Santos     SP      MAR  Petrobras   \n",
       "4      3-ENV-39D-AM   AM-T-85        Amazonas     AM    TERRA      Eneva   \n",
       "\n",
       "  INÍCIO DA PERFURAÇÃO CONCLUSÃO DO POÇO NOTIFICAÇÃO DE DESCOBERTA ?  \\\n",
       "0           29/04/2023               NaN                         Não   \n",
       "1           22/04/2023               NaN                         Não   \n",
       "2           31/03/2023        23/04/2023                         Sim   \n",
       "3           18/03/2023               NaN                         Não   \n",
       "4           18/02/2023        26/03/2023                         Sim   \n",
       "\n",
       "  DATA DA NOTIFICAÇÃO DE DESCOBERTA  \n",
       "0                               NaN  \n",
       "1                               NaN  \n",
       "2                        24/04/2023  \n",
       "3                               NaN  \n",
       "4                        28/03/2023  "
      ]
     },
     "execution_count": 52,
     "metadata": {},
     "output_type": "execute_result"
    }
   ],
   "source": [
    "abril_data = pd.read_csv('../datasets/abril.csv', sep = ';', encoding= 'latin-1') # lendo os dados\n",
    "abril_data.head()"
   ]
  },
  {
   "cell_type": "markdown",
   "metadata": {},
   "source": [
    "## 3. Limpeza dos Dados"
   ]
  },
  {
   "cell_type": "code",
   "execution_count": 53,
   "metadata": {},
   "outputs": [
    {
     "data": {
      "text/html": [
       "<div>\n",
       "<style scoped>\n",
       "    .dataframe tbody tr th:only-of-type {\n",
       "        vertical-align: middle;\n",
       "    }\n",
       "\n",
       "    .dataframe tbody tr th {\n",
       "        vertical-align: top;\n",
       "    }\n",
       "\n",
       "    .dataframe thead th {\n",
       "        text-align: right;\n",
       "    }\n",
       "</style>\n",
       "<table border=\"1\" class=\"dataframe\">\n",
       "  <thead>\n",
       "    <tr style=\"text-align: right;\">\n",
       "      <th></th>\n",
       "      <th>POÇO ANP</th>\n",
       "      <th>BLOCO</th>\n",
       "      <th>BACIA</th>\n",
       "      <th>ESTADO</th>\n",
       "      <th>AMBIENTE</th>\n",
       "      <th>OPERADOR</th>\n",
       "      <th>INÍCIO DA PERFURAÇÃO</th>\n",
       "      <th>CONCLUSÃO DO POÇO</th>\n",
       "      <th>NOTIFICAÇÃO DE DESCOBERTA ?</th>\n",
       "    </tr>\n",
       "  </thead>\n",
       "  <tbody>\n",
       "    <tr>\n",
       "      <th>0</th>\n",
       "      <td>3-ENV-41D-AM</td>\n",
       "      <td>AM-T-85</td>\n",
       "      <td>Amazonas</td>\n",
       "      <td>AM</td>\n",
       "      <td>TERRA</td>\n",
       "      <td>Eneva</td>\n",
       "      <td>29/04/2023</td>\n",
       "      <td>NaN</td>\n",
       "      <td>Não</td>\n",
       "    </tr>\n",
       "    <tr>\n",
       "      <th>1</th>\n",
       "      <td>1-BGM-9-ES</td>\n",
       "      <td>ES-T-345</td>\n",
       "      <td>Espírito Santo</td>\n",
       "      <td>ES</td>\n",
       "      <td>TERRA</td>\n",
       "      <td>BGM</td>\n",
       "      <td>22/04/2023</td>\n",
       "      <td>NaN</td>\n",
       "      <td>Não</td>\n",
       "    </tr>\n",
       "    <tr>\n",
       "      <th>2</th>\n",
       "      <td>3-ENV-40D-AM</td>\n",
       "      <td>AM-T-85</td>\n",
       "      <td>Amazonas</td>\n",
       "      <td>AM</td>\n",
       "      <td>TERRA</td>\n",
       "      <td>Eneva</td>\n",
       "      <td>31/03/2023</td>\n",
       "      <td>23/04/2023</td>\n",
       "      <td>Sim</td>\n",
       "    </tr>\n",
       "    <tr>\n",
       "      <th>3</th>\n",
       "      <td>3-BRSA-1387D-SPS</td>\n",
       "      <td>ARAM</td>\n",
       "      <td>Santos</td>\n",
       "      <td>SP</td>\n",
       "      <td>MAR</td>\n",
       "      <td>Petrobras</td>\n",
       "      <td>18/03/2023</td>\n",
       "      <td>NaN</td>\n",
       "      <td>Não</td>\n",
       "    </tr>\n",
       "    <tr>\n",
       "      <th>4</th>\n",
       "      <td>3-ENV-39D-AM</td>\n",
       "      <td>AM-T-85</td>\n",
       "      <td>Amazonas</td>\n",
       "      <td>AM</td>\n",
       "      <td>TERRA</td>\n",
       "      <td>Eneva</td>\n",
       "      <td>18/02/2023</td>\n",
       "      <td>26/03/2023</td>\n",
       "      <td>Sim</td>\n",
       "    </tr>\n",
       "  </tbody>\n",
       "</table>\n",
       "</div>"
      ],
      "text/plain": [
       "           POÇO ANP     BLOCO           BACIA ESTADO AMBIENTE   OPERADOR  \\\n",
       "0      3-ENV-41D-AM   AM-T-85        Amazonas     AM    TERRA      Eneva   \n",
       "1        1-BGM-9-ES  ES-T-345  Espírito Santo     ES    TERRA        BGM   \n",
       "2      3-ENV-40D-AM   AM-T-85        Amazonas     AM    TERRA      Eneva   \n",
       "3  3-BRSA-1387D-SPS      ARAM          Santos     SP      MAR  Petrobras   \n",
       "4      3-ENV-39D-AM   AM-T-85        Amazonas     AM    TERRA      Eneva   \n",
       "\n",
       "  INÍCIO DA PERFURAÇÃO CONCLUSÃO DO POÇO NOTIFICAÇÃO DE DESCOBERTA ?  \n",
       "0           29/04/2023               NaN                         Não  \n",
       "1           22/04/2023               NaN                         Não  \n",
       "2           31/03/2023        23/04/2023                         Sim  \n",
       "3           18/03/2023               NaN                         Não  \n",
       "4           18/02/2023        26/03/2023                         Sim  "
      ]
     },
     "execution_count": 53,
     "metadata": {},
     "output_type": "execute_result"
    }
   ],
   "source": [
    "## Passo 1: Descarte da coluna \"DATA DE NOTIFICAÇÃO DE DESCOBERTA\", pois ela não será utilizada nesta análise\n",
    "\n",
    "abril_data.drop(abril_data.columns[-1], axis = 1, inplace = True)\n",
    "abril_data.head()"
   ]
  },
  {
   "cell_type": "code",
   "execution_count": 54,
   "metadata": {},
   "outputs": [
    {
     "data": {
      "text/html": [
       "<div>\n",
       "<style scoped>\n",
       "    .dataframe tbody tr th:only-of-type {\n",
       "        vertical-align: middle;\n",
       "    }\n",
       "\n",
       "    .dataframe tbody tr th {\n",
       "        vertical-align: top;\n",
       "    }\n",
       "\n",
       "    .dataframe thead th {\n",
       "        text-align: right;\n",
       "    }\n",
       "</style>\n",
       "<table border=\"1\" class=\"dataframe\">\n",
       "  <thead>\n",
       "    <tr style=\"text-align: right;\">\n",
       "      <th></th>\n",
       "      <th>Poco_ANP</th>\n",
       "      <th>Bloco</th>\n",
       "      <th>Bacia</th>\n",
       "      <th>Estado</th>\n",
       "      <th>Ambiente</th>\n",
       "      <th>Operador</th>\n",
       "      <th>Inicio</th>\n",
       "      <th>Conclusao</th>\n",
       "      <th>Notificacao</th>\n",
       "    </tr>\n",
       "  </thead>\n",
       "  <tbody>\n",
       "    <tr>\n",
       "      <th>0</th>\n",
       "      <td>3-ENV-41D-AM</td>\n",
       "      <td>AM-T-85</td>\n",
       "      <td>Amazonas</td>\n",
       "      <td>AM</td>\n",
       "      <td>TERRA</td>\n",
       "      <td>Eneva</td>\n",
       "      <td>29/04/2023</td>\n",
       "      <td>NaN</td>\n",
       "      <td>Não</td>\n",
       "    </tr>\n",
       "    <tr>\n",
       "      <th>1</th>\n",
       "      <td>1-BGM-9-ES</td>\n",
       "      <td>ES-T-345</td>\n",
       "      <td>Espírito Santo</td>\n",
       "      <td>ES</td>\n",
       "      <td>TERRA</td>\n",
       "      <td>BGM</td>\n",
       "      <td>22/04/2023</td>\n",
       "      <td>NaN</td>\n",
       "      <td>Não</td>\n",
       "    </tr>\n",
       "    <tr>\n",
       "      <th>2</th>\n",
       "      <td>3-ENV-40D-AM</td>\n",
       "      <td>AM-T-85</td>\n",
       "      <td>Amazonas</td>\n",
       "      <td>AM</td>\n",
       "      <td>TERRA</td>\n",
       "      <td>Eneva</td>\n",
       "      <td>31/03/2023</td>\n",
       "      <td>23/04/2023</td>\n",
       "      <td>Sim</td>\n",
       "    </tr>\n",
       "    <tr>\n",
       "      <th>3</th>\n",
       "      <td>3-BRSA-1387D-SPS</td>\n",
       "      <td>ARAM</td>\n",
       "      <td>Santos</td>\n",
       "      <td>SP</td>\n",
       "      <td>MAR</td>\n",
       "      <td>Petrobras</td>\n",
       "      <td>18/03/2023</td>\n",
       "      <td>NaN</td>\n",
       "      <td>Não</td>\n",
       "    </tr>\n",
       "    <tr>\n",
       "      <th>4</th>\n",
       "      <td>3-ENV-39D-AM</td>\n",
       "      <td>AM-T-85</td>\n",
       "      <td>Amazonas</td>\n",
       "      <td>AM</td>\n",
       "      <td>TERRA</td>\n",
       "      <td>Eneva</td>\n",
       "      <td>18/02/2023</td>\n",
       "      <td>26/03/2023</td>\n",
       "      <td>Sim</td>\n",
       "    </tr>\n",
       "  </tbody>\n",
       "</table>\n",
       "</div>"
      ],
      "text/plain": [
       "           Poco_ANP     Bloco           Bacia Estado Ambiente   Operador  \\\n",
       "0      3-ENV-41D-AM   AM-T-85        Amazonas     AM    TERRA      Eneva   \n",
       "1        1-BGM-9-ES  ES-T-345  Espírito Santo     ES    TERRA        BGM   \n",
       "2      3-ENV-40D-AM   AM-T-85        Amazonas     AM    TERRA      Eneva   \n",
       "3  3-BRSA-1387D-SPS      ARAM          Santos     SP      MAR  Petrobras   \n",
       "4      3-ENV-39D-AM   AM-T-85        Amazonas     AM    TERRA      Eneva   \n",
       "\n",
       "       Inicio   Conclusao Notificacao  \n",
       "0  29/04/2023         NaN         Não  \n",
       "1  22/04/2023         NaN         Não  \n",
       "2  31/03/2023  23/04/2023         Sim  \n",
       "3  18/03/2023         NaN         Não  \n",
       "4  18/02/2023  26/03/2023         Sim  "
      ]
     },
     "execution_count": 54,
     "metadata": {},
     "output_type": "execute_result"
    }
   ],
   "source": [
    "## Passo 2: Renomear colunas que possuem acentoes, espaços e cedilhas\n",
    "\n",
    "abril_data.columns = ['Poco_ANP', 'Bloco', 'Bacia', 'Estado', 'Ambiente', 'Operador', 'Inicio', 'Conclusao', 'Notificacao']\n",
    "abril_data.head()"
   ]
  },
  {
   "cell_type": "code",
   "execution_count": 49,
   "metadata": {},
   "outputs": [
    {
     "name": "stdout",
     "output_type": "stream",
     "text": [
      "<class 'pandas.core.frame.DataFrame'>\n",
      "Int64Index: 1731 entries, 0 to 1731\n",
      "Data columns (total 8 columns):\n",
      " #   Column     Non-Null Count  Dtype \n",
      "---  ------     --------------  ----- \n",
      " 0   Poco_ANP   1731 non-null   object\n",
      " 1   Bloco      1730 non-null   object\n",
      " 2   Bacia      1730 non-null   object\n",
      " 3   Estado     1730 non-null   object\n",
      " 4   Ambiente   1730 non-null   object\n",
      " 5   Operador   1728 non-null   object\n",
      " 6   Inicio     1730 non-null   object\n",
      " 7   Conclusao  1723 non-null   object\n",
      "dtypes: object(8)\n",
      "memory usage: 186.2+ KB\n"
     ]
    }
   ],
   "source": [
    "## Resumo do Dataset\n",
    "abril_data.info()"
   ]
  },
  {
   "cell_type": "code",
   "execution_count": 55,
   "metadata": {},
   "outputs": [
    {
     "data": {
      "text/html": [
       "<div>\n",
       "<style scoped>\n",
       "    .dataframe tbody tr th:only-of-type {\n",
       "        vertical-align: middle;\n",
       "    }\n",
       "\n",
       "    .dataframe tbody tr th {\n",
       "        vertical-align: top;\n",
       "    }\n",
       "\n",
       "    .dataframe thead th {\n",
       "        text-align: right;\n",
       "    }\n",
       "</style>\n",
       "<table border=\"1\" class=\"dataframe\">\n",
       "  <thead>\n",
       "    <tr style=\"text-align: right;\">\n",
       "      <th></th>\n",
       "      <th>Poco_ANP</th>\n",
       "      <th>Bloco</th>\n",
       "      <th>Bacia</th>\n",
       "      <th>Estado</th>\n",
       "      <th>Ambiente</th>\n",
       "      <th>Operador</th>\n",
       "      <th>Inicio</th>\n",
       "      <th>Conclusao</th>\n",
       "      <th>Notificacao</th>\n",
       "    </tr>\n",
       "  </thead>\n",
       "  <tbody>\n",
       "  </tbody>\n",
       "</table>\n",
       "</div>"
      ],
      "text/plain": [
       "Empty DataFrame\n",
       "Columns: [Poco_ANP, Bloco, Bacia, Estado, Ambiente, Operador, Inicio, Conclusao, Notificacao]\n",
       "Index: []"
      ]
     },
     "execution_count": 55,
     "metadata": {},
     "output_type": "execute_result"
    }
   ],
   "source": [
    "#Passo 3: Verificação de dados duplicados\n",
    "\n",
    "abril_data[abril_data.duplicated()]\n"
   ]
  },
  {
   "cell_type": "markdown",
   "metadata": {},
   "source": [
    "Não há linhas completamente duplicadas."
   ]
  },
  {
   "cell_type": "code",
   "execution_count": 56,
   "metadata": {},
   "outputs": [
    {
     "data": {
      "text/html": [
       "<div>\n",
       "<style scoped>\n",
       "    .dataframe tbody tr th:only-of-type {\n",
       "        vertical-align: middle;\n",
       "    }\n",
       "\n",
       "    .dataframe tbody tr th {\n",
       "        vertical-align: top;\n",
       "    }\n",
       "\n",
       "    .dataframe thead th {\n",
       "        text-align: right;\n",
       "    }\n",
       "</style>\n",
       "<table border=\"1\" class=\"dataframe\">\n",
       "  <thead>\n",
       "    <tr style=\"text-align: right;\">\n",
       "      <th></th>\n",
       "      <th>Poco_ANP</th>\n",
       "      <th>Bloco</th>\n",
       "      <th>Bacia</th>\n",
       "      <th>Estado</th>\n",
       "      <th>Ambiente</th>\n",
       "      <th>Operador</th>\n",
       "      <th>Inicio</th>\n",
       "      <th>Conclusao</th>\n",
       "      <th>Notificacao</th>\n",
       "    </tr>\n",
       "  </thead>\n",
       "  <tbody>\n",
       "    <tr>\n",
       "      <th>1730</th>\n",
       "      <td>NaN</td>\n",
       "      <td>NaN</td>\n",
       "      <td>NaN</td>\n",
       "      <td>NaN</td>\n",
       "      <td>NaN</td>\n",
       "      <td>NaN</td>\n",
       "      <td>NaN</td>\n",
       "      <td>NaN</td>\n",
       "      <td>NaN</td>\n",
       "    </tr>\n",
       "  </tbody>\n",
       "</table>\n",
       "</div>"
      ],
      "text/plain": [
       "     Poco_ANP Bloco Bacia Estado Ambiente Operador Inicio Conclusao  \\\n",
       "1730      NaN   NaN   NaN    NaN      NaN      NaN    NaN       NaN   \n",
       "\n",
       "     Notificacao  \n",
       "1730         NaN  "
      ]
     },
     "execution_count": 56,
     "metadata": {},
     "output_type": "execute_result"
    }
   ],
   "source": [
    "## Passo 4: Verificação de dados ausentes\n",
    "\n",
    "## 4.1: Coluna Poco_ANP:\n",
    "\n",
    "abril_data[abril_data['Poco_ANP'].isna()]"
   ]
  },
  {
   "cell_type": "markdown",
   "metadata": {},
   "source": [
    "Linha 1730 com todas as colunas sem dados. Portanto, procede-se com a remoção da linha"
   ]
  },
  {
   "cell_type": "code",
   "execution_count": 57,
   "metadata": {},
   "outputs": [],
   "source": [
    "#Removendo linha 1730\n",
    "abril_data.drop(1730, inplace = True)\n",
    "abril_data.reset_index(drop= True, inplace= True)"
   ]
  },
  {
   "cell_type": "code",
   "execution_count": 59,
   "metadata": {},
   "outputs": [
    {
     "data": {
      "text/html": [
       "<div>\n",
       "<style scoped>\n",
       "    .dataframe tbody tr th:only-of-type {\n",
       "        vertical-align: middle;\n",
       "    }\n",
       "\n",
       "    .dataframe tbody tr th {\n",
       "        vertical-align: top;\n",
       "    }\n",
       "\n",
       "    .dataframe thead th {\n",
       "        text-align: right;\n",
       "    }\n",
       "</style>\n",
       "<table border=\"1\" class=\"dataframe\">\n",
       "  <thead>\n",
       "    <tr style=\"text-align: right;\">\n",
       "      <th></th>\n",
       "      <th>Poco_ANP</th>\n",
       "      <th>Bloco</th>\n",
       "      <th>Bacia</th>\n",
       "      <th>Estado</th>\n",
       "      <th>Ambiente</th>\n",
       "      <th>Operador</th>\n",
       "      <th>Inicio</th>\n",
       "      <th>Conclusao</th>\n",
       "      <th>Notificacao</th>\n",
       "    </tr>\n",
       "  </thead>\n",
       "  <tbody>\n",
       "    <tr>\n",
       "      <th>1730</th>\n",
       "      <td>Nenhum filtro aplicado</td>\n",
       "      <td>NaN</td>\n",
       "      <td>NaN</td>\n",
       "      <td>NaN</td>\n",
       "      <td>NaN</td>\n",
       "      <td>NaN</td>\n",
       "      <td>NaN</td>\n",
       "      <td>NaN</td>\n",
       "      <td>NaN</td>\n",
       "    </tr>\n",
       "  </tbody>\n",
       "</table>\n",
       "</div>"
      ],
      "text/plain": [
       "                    Poco_ANP Bloco Bacia Estado Ambiente Operador Inicio  \\\n",
       "1730  Nenhum filtro aplicado   NaN   NaN    NaN      NaN      NaN    NaN   \n",
       "\n",
       "     Conclusao Notificacao  \n",
       "1730       NaN         NaN  "
      ]
     },
     "execution_count": 59,
     "metadata": {},
     "output_type": "execute_result"
    }
   ],
   "source": [
    "## 4.1: Coluna Bloco:\n",
    "\n",
    "abril_data[abril_data['Bloco'].isna()]"
   ]
  },
  {
   "cell_type": "markdown",
   "metadata": {},
   "source": [
    "A nova linha 1730 também não agrega nenhuma informação para o dataset. Portanto, ela será removida também."
   ]
  },
  {
   "cell_type": "code",
   "execution_count": 60,
   "metadata": {},
   "outputs": [],
   "source": [
    "#Removendo linha 1730\n",
    "abril_data.drop(1730, inplace = True)\n",
    "abril_data.reset_index(drop= True, inplace= True)"
   ]
  },
  {
   "cell_type": "code",
   "execution_count": 61,
   "metadata": {},
   "outputs": [
    {
     "name": "stdout",
     "output_type": "stream",
     "text": [
      "<class 'pandas.core.frame.DataFrame'>\n",
      "RangeIndex: 1730 entries, 0 to 1729\n",
      "Data columns (total 9 columns):\n",
      " #   Column       Non-Null Count  Dtype \n",
      "---  ------       --------------  ----- \n",
      " 0   Poco_ANP     1730 non-null   object\n",
      " 1   Bloco        1730 non-null   object\n",
      " 2   Bacia        1730 non-null   object\n",
      " 3   Estado       1730 non-null   object\n",
      " 4   Ambiente     1730 non-null   object\n",
      " 5   Operador     1728 non-null   object\n",
      " 6   Inicio       1730 non-null   object\n",
      " 7   Conclusao    1723 non-null   object\n",
      " 8   Notificacao  1730 non-null   object\n",
      "dtypes: object(9)\n",
      "memory usage: 121.8+ KB\n"
     ]
    }
   ],
   "source": [
    "abril_data.info()"
   ]
  },
  {
   "cell_type": "markdown",
   "metadata": {},
   "source": [
    "Agora apenas a coluna _Operador_ e a coluna _Conclusao_ possuem valores ausentes"
   ]
  },
  {
   "cell_type": "code",
   "execution_count": 66,
   "metadata": {},
   "outputs": [
    {
     "data": {
      "text/html": [
       "<div>\n",
       "<style scoped>\n",
       "    .dataframe tbody tr th:only-of-type {\n",
       "        vertical-align: middle;\n",
       "    }\n",
       "\n",
       "    .dataframe tbody tr th {\n",
       "        vertical-align: top;\n",
       "    }\n",
       "\n",
       "    .dataframe thead th {\n",
       "        text-align: right;\n",
       "    }\n",
       "</style>\n",
       "<table border=\"1\" class=\"dataframe\">\n",
       "  <thead>\n",
       "    <tr style=\"text-align: right;\">\n",
       "      <th></th>\n",
       "      <th>Poco_ANP</th>\n",
       "      <th>Bloco</th>\n",
       "      <th>Bacia</th>\n",
       "      <th>Estado</th>\n",
       "      <th>Ambiente</th>\n",
       "      <th>Operador</th>\n",
       "      <th>Inicio</th>\n",
       "      <th>Conclusao</th>\n",
       "      <th>Notificacao</th>\n",
       "    </tr>\n",
       "  </thead>\n",
       "  <tbody>\n",
       "  </tbody>\n",
       "</table>\n",
       "</div>"
      ],
      "text/plain": [
       "Empty DataFrame\n",
       "Columns: [Poco_ANP, Bloco, Bacia, Estado, Ambiente, Operador, Inicio, Conclusao, Notificacao]\n",
       "Index: []"
      ]
     },
     "execution_count": 66,
     "metadata": {},
     "output_type": "execute_result"
    }
   ],
   "source": [
    "## 4.3: Coluna Operador\n",
    "\n",
    "abril_data[abril_data['Operador'].isna()]"
   ]
  },
  {
   "cell_type": "markdown",
   "metadata": {},
   "source": [
    "Observa-se a ausência de Operador para dois poços. Ao realizar uma pesquisa sobre os poços em GOV.br, observa-se que mesmo na lista de cadastro de poços esses poços encontram-se sem operadores (Visite https://www.gov.br/anp/pt-br/assuntos/exploracao-e-producao-de-oleo-e-gas/dados-tecnicos/ad/tabela-de-pocos.xlsx). Por conta disso, irá-se preencher essas colunas com valor \"Desconhecido\"."
   ]
  },
  {
   "cell_type": "code",
   "execution_count": 67,
   "metadata": {},
   "outputs": [],
   "source": [
    "#Substituindo valores ausentes por valor desconhecido\n",
    "abril_data['Operador'].fillna('Desconhecido', inplace = True)"
   ]
  },
  {
   "cell_type": "code",
   "execution_count": 69,
   "metadata": {},
   "outputs": [
    {
     "data": {
      "text/html": [
       "<div>\n",
       "<style scoped>\n",
       "    .dataframe tbody tr th:only-of-type {\n",
       "        vertical-align: middle;\n",
       "    }\n",
       "\n",
       "    .dataframe tbody tr th {\n",
       "        vertical-align: top;\n",
       "    }\n",
       "\n",
       "    .dataframe thead th {\n",
       "        text-align: right;\n",
       "    }\n",
       "</style>\n",
       "<table border=\"1\" class=\"dataframe\">\n",
       "  <thead>\n",
       "    <tr style=\"text-align: right;\">\n",
       "      <th></th>\n",
       "      <th>Poco_ANP</th>\n",
       "      <th>Bloco</th>\n",
       "      <th>Bacia</th>\n",
       "      <th>Estado</th>\n",
       "      <th>Ambiente</th>\n",
       "      <th>Operador</th>\n",
       "      <th>Inicio</th>\n",
       "      <th>Conclusao</th>\n",
       "      <th>Notificacao</th>\n",
       "    </tr>\n",
       "  </thead>\n",
       "  <tbody>\n",
       "    <tr>\n",
       "      <th>0</th>\n",
       "      <td>3-ENV-41D-AM</td>\n",
       "      <td>AM-T-85</td>\n",
       "      <td>Amazonas</td>\n",
       "      <td>AM</td>\n",
       "      <td>TERRA</td>\n",
       "      <td>Eneva</td>\n",
       "      <td>29/04/2023</td>\n",
       "      <td>NaN</td>\n",
       "      <td>Não</td>\n",
       "    </tr>\n",
       "    <tr>\n",
       "      <th>1</th>\n",
       "      <td>1-BGM-9-ES</td>\n",
       "      <td>ES-T-345</td>\n",
       "      <td>Espírito Santo</td>\n",
       "      <td>ES</td>\n",
       "      <td>TERRA</td>\n",
       "      <td>BGM</td>\n",
       "      <td>22/04/2023</td>\n",
       "      <td>NaN</td>\n",
       "      <td>Não</td>\n",
       "    </tr>\n",
       "    <tr>\n",
       "      <th>3</th>\n",
       "      <td>3-BRSA-1387D-SPS</td>\n",
       "      <td>ARAM</td>\n",
       "      <td>Santos</td>\n",
       "      <td>SP</td>\n",
       "      <td>MAR</td>\n",
       "      <td>Petrobras</td>\n",
       "      <td>18/03/2023</td>\n",
       "      <td>NaN</td>\n",
       "      <td>Não</td>\n",
       "    </tr>\n",
       "    <tr>\n",
       "      <th>11</th>\n",
       "      <td>1-TOT-3-RJS</td>\n",
       "      <td>C-M-541</td>\n",
       "      <td>Campos</td>\n",
       "      <td>RJ</td>\n",
       "      <td>MAR</td>\n",
       "      <td>TotalEnergies EP</td>\n",
       "      <td>04/08/2022</td>\n",
       "      <td>NaN</td>\n",
       "      <td>Não</td>\n",
       "    </tr>\n",
       "    <tr>\n",
       "      <th>155</th>\n",
       "      <td>4-TEK-2-BA</td>\n",
       "      <td>REC-T-153</td>\n",
       "      <td>Recôncavo</td>\n",
       "      <td>BA</td>\n",
       "      <td>TERRA</td>\n",
       "      <td>Tek</td>\n",
       "      <td>15/01/2017</td>\n",
       "      <td>NaN</td>\n",
       "      <td>Não</td>\n",
       "    </tr>\n",
       "    <tr>\n",
       "      <th>751</th>\n",
       "      <td>1-NORD-4-SE</td>\n",
       "      <td>SEAL-T-430</td>\n",
       "      <td>Sergipe</td>\n",
       "      <td>SE</td>\n",
       "      <td>TERRA</td>\n",
       "      <td>Nord</td>\n",
       "      <td>24/12/2009</td>\n",
       "      <td>NaN</td>\n",
       "      <td>Não</td>\n",
       "    </tr>\n",
       "    <tr>\n",
       "      <th>815</th>\n",
       "      <td>1-SMAR-5-SE</td>\n",
       "      <td>SEAL-T-467</td>\n",
       "      <td>Sergipe</td>\n",
       "      <td>SE</td>\n",
       "      <td>TERRA</td>\n",
       "      <td>Silver Marlin</td>\n",
       "      <td>08/05/2009</td>\n",
       "      <td>NaN</td>\n",
       "      <td>Não</td>\n",
       "    </tr>\n",
       "  </tbody>\n",
       "</table>\n",
       "</div>"
      ],
      "text/plain": [
       "             Poco_ANP       Bloco           Bacia Estado Ambiente  \\\n",
       "0        3-ENV-41D-AM     AM-T-85        Amazonas     AM    TERRA   \n",
       "1          1-BGM-9-ES    ES-T-345  Espírito Santo     ES    TERRA   \n",
       "3    3-BRSA-1387D-SPS        ARAM          Santos     SP      MAR   \n",
       "11        1-TOT-3-RJS     C-M-541          Campos     RJ      MAR   \n",
       "155        4-TEK-2-BA   REC-T-153       Recôncavo     BA    TERRA   \n",
       "751       1-NORD-4-SE  SEAL-T-430         Sergipe     SE    TERRA   \n",
       "815       1-SMAR-5-SE  SEAL-T-467         Sergipe     SE    TERRA   \n",
       "\n",
       "             Operador      Inicio Conclusao Notificacao  \n",
       "0               Eneva  29/04/2023       NaN         Não  \n",
       "1                 BGM  22/04/2023       NaN         Não  \n",
       "3           Petrobras  18/03/2023       NaN         Não  \n",
       "11   TotalEnergies EP  04/08/2022       NaN         Não  \n",
       "155               Tek  15/01/2017       NaN         Não  \n",
       "751              Nord  24/12/2009       NaN         Não  \n",
       "815     Silver Marlin  08/05/2009       NaN         Não  "
      ]
     },
     "execution_count": 69,
     "metadata": {},
     "output_type": "execute_result"
    }
   ],
   "source": [
    "## 4.4: Coluna Conclusao\n",
    "\n",
    "abril_data[abril_data['Conclusao'].isna()]"
   ]
  },
  {
   "cell_type": "markdown",
   "metadata": {},
   "source": [
    "A coluna _Conclusao_ possui valor NaN em linhas onde o poço ainda não foi concluído. O valor será mantido \"Nan\""
   ]
  },
  {
   "cell_type": "code",
   "execution_count": 72,
   "metadata": {},
   "outputs": [],
   "source": [
    "#Troca de tipos de Dados das colunas \"Inicio\" e \"Conclusao\" para Datetime\n",
    "\n",
    "abril_data['Inicio'] = pd.to_datetime(abril_data['Inicio'], format = '%d/%m/%Y')\n",
    "abril_data['Conclusao'] = pd.to_datetime(abril_data['Conclusao'], format = '%d/%m/%Y')"
   ]
  },
  {
   "cell_type": "code",
   "execution_count": 79,
   "metadata": {},
   "outputs": [
    {
     "name": "stdout",
     "output_type": "stream",
     "text": [
      "<class 'pandas.core.frame.DataFrame'>\n",
      "RangeIndex: 1730 entries, 0 to 1729\n",
      "Data columns (total 9 columns):\n",
      " #   Column       Non-Null Count  Dtype         \n",
      "---  ------       --------------  -----         \n",
      " 0   Poco_ANP     1730 non-null   object        \n",
      " 1   Bloco        1730 non-null   object        \n",
      " 2   Bacia        1730 non-null   object        \n",
      " 3   Estado       1730 non-null   object        \n",
      " 4   Ambiente     1730 non-null   object        \n",
      " 5   Operador     1730 non-null   object        \n",
      " 6   Inicio       1730 non-null   datetime64[ns]\n",
      " 7   Conclusao    1723 non-null   datetime64[ns]\n",
      " 8   Notificacao  1730 non-null   object        \n",
      "dtypes: datetime64[ns](2), object(7)\n",
      "memory usage: 121.8+ KB\n"
     ]
    }
   ],
   "source": [
    "#Verifica se a conversão foi realizada\n",
    "abril_data.info()"
   ]
  },
  {
   "cell_type": "code",
   "execution_count": 82,
   "metadata": {},
   "outputs": [
    {
     "data": {
      "text/plain": [
       "1730"
      ]
     },
     "execution_count": 82,
     "metadata": {},
     "output_type": "execute_result"
    }
   ],
   "source": [
    "## Verifica se há poços repetidos\n",
    "abril_data['Poco_ANP'].nunique()"
   ]
  },
  {
   "cell_type": "markdown",
   "metadata": {},
   "source": [
    "## 4. Visualização dos Dados"
   ]
  },
  {
   "cell_type": "markdown",
   "metadata": {},
   "source": [
    "**Gráfico 1: Número de Poços de Petróleo (Concluídos ou em Andamento) por Estado**\n",
    "\n"
   ]
  },
  {
   "cell_type": "code",
   "execution_count": 83,
   "metadata": {},
   "outputs": [
    {
     "data": {
      "application/vnd.plotly.v1+json": {
       "config": {
        "plotlyServerURL": "https://plot.ly"
       },
       "data": [
        {
         "alignmentgroup": "True",
         "bingroup": "x",
         "hovertemplate": "Estado=%{x}<br>count=%{y}<extra></extra>",
         "legendgroup": "",
         "marker": {
          "color": "#636efa",
          "pattern": {
           "shape": ""
          }
         },
         "name": "",
         "offsetgroup": "",
         "orientation": "v",
         "showlegend": false,
         "type": "histogram",
         "x": [
          "AM",
          "ES",
          "AM",
          "SP",
          "AM",
          "ES",
          "ES",
          "MA",
          "RN",
          "MA",
          "ES",
          "RJ",
          "MA",
          "ES",
          "ES",
          "AM",
          "BA",
          "MA",
          "AM",
          "MA",
          "AM",
          "ES",
          "RJ",
          "BA",
          "BA",
          "SE",
          "MA",
          "RJ",
          "RJ",
          "RJ",
          "MA",
          "RJ",
          "RJ",
          "MA",
          "AM",
          "ES",
          "MA",
          "AM",
          "MA",
          "RJ",
          "MA",
          "MA",
          "MA",
          "SP",
          "RN",
          "RJ",
          "MA",
          "MA",
          "RJ",
          "MA",
          "ES",
          "ES",
          "RJ",
          "RJ",
          "RJ",
          "MA",
          "MA",
          "MA",
          "RJ",
          "MA",
          "MA",
          "MA",
          "MA",
          "RJ",
          "MA",
          "RJ",
          "AL",
          "RJ",
          "ES",
          "AL",
          "RJ",
          "AL",
          "SP",
          "MA",
          "RN",
          "SP",
          "SP",
          "SE",
          "ES",
          "MA",
          "BA",
          "RJ",
          "MA",
          "SP",
          "MA",
          "BA",
          "BA",
          "MA",
          "ES",
          "MA",
          "BA",
          "RJ",
          "SE",
          "MA",
          "ES",
          "BA",
          "MA",
          "AM",
          "MA",
          "MA",
          "MA",
          "SE",
          "SP",
          "BA",
          "BA",
          "BA",
          "MA",
          "RJ",
          "MA",
          "MA",
          "MA",
          "SP",
          "MA",
          "AM",
          "MA",
          "SP",
          "PI",
          "SP",
          "MA",
          "MA",
          "AL",
          "MA",
          "AL",
          "SP",
          "SP",
          "AM",
          "ES",
          "RN",
          "RN",
          "BA",
          "AM",
          "MA",
          "RN",
          "RN",
          "RJ",
          "MA",
          "RJ",
          "MA",
          "RJ",
          "BA",
          "MA",
          "MA",
          "MA",
          "BA",
          "RJ",
          "RN",
          "BA",
          "BA",
          "BA",
          "BA",
          "BA",
          "RJ",
          "AM",
          "RJ",
          "BA",
          "BA",
          "BA",
          "BA",
          "AL",
          "AL",
          "BA",
          "AL",
          "RJ",
          "RN",
          "RJ",
          "RJ",
          "RN",
          "MA",
          "RN",
          "RJ",
          "BA",
          "RJ",
          "AM",
          "MA",
          "RJ",
          "AL",
          "BA",
          "MA",
          "RN",
          "SE",
          "MA",
          "SE",
          "RN",
          "ES",
          "AL",
          "RN",
          "RJ",
          "RN",
          "MA",
          "MA",
          "AL",
          "AM",
          "MA",
          "RJ",
          "BA",
          "RJ",
          "BA",
          "RJ",
          "SE",
          "RJ",
          "SE",
          "SP",
          "ES",
          "AM",
          "MA",
          "BA",
          "ES",
          "SE",
          "MA",
          "MA",
          "SP",
          "SE",
          "RJ",
          "SP",
          "AM",
          "MA",
          "MA",
          "RJ",
          "BA",
          "SP",
          "SE",
          "SP",
          "ES",
          "RJ",
          "MA",
          "SE",
          "AM",
          "BA",
          "SP",
          "MA",
          "RN",
          "RJ",
          "AM",
          "ES",
          "MA",
          "SP",
          "ES",
          "ES",
          "ES",
          "MA",
          "RJ",
          "BA",
          "ES",
          "AM",
          "SE",
          "AL",
          "SE",
          "RJ",
          "RN",
          "SE",
          "RJ",
          "ES",
          "ES",
          "SE",
          "AM",
          "SE",
          "MA",
          "ES",
          "ES",
          "MA",
          "MA",
          "RJ",
          "BA",
          "BA",
          "MA",
          "ES",
          "SP",
          "RJ",
          "BA",
          "RJ",
          "MA",
          "RJ",
          "BA",
          "BA",
          "SE",
          "RN",
          "MT",
          "MA",
          "AM",
          "BA",
          "MA",
          "BA",
          "BA",
          "SE",
          "MA",
          "RJ",
          "MA",
          "AM",
          "MG",
          "RJ",
          "ES",
          "MA",
          "ES",
          "ES",
          "MG",
          "MA",
          "RJ",
          "SE",
          "MG",
          "SP",
          "MA",
          "ES",
          "SE",
          "MG",
          "CE",
          "SP",
          "MA",
          "ES",
          "SP",
          "ES",
          "RJ",
          "ES",
          "MG",
          "AM",
          "SE",
          "MA",
          "RJ",
          "MG",
          "MA",
          "MG",
          "AM",
          "CE",
          "MA",
          "SP",
          "MG",
          "MA",
          "MA",
          "MG",
          "MG",
          "RJ",
          "MA",
          "RJ",
          "ES",
          "BA",
          "MA",
          "SP",
          "CE",
          "MG",
          "MG",
          "ES",
          "SE",
          "MA",
          "MA",
          "MG",
          "RJ",
          "BA",
          "RJ",
          "MG",
          "SE",
          "ES",
          "RJ",
          "ES",
          "BA",
          "SP",
          "MA",
          "MA",
          "BA",
          "AM",
          "BA",
          "MG",
          "MA",
          "SP",
          "RJ",
          "CE",
          "AM",
          "ES",
          "RJ",
          "SE",
          "RJ",
          "SP",
          "MA",
          "RJ",
          "AM",
          "MA",
          "SE",
          "MA",
          "SP",
          "MG",
          "MA",
          "RN",
          "ES",
          "SE",
          "SE",
          "RJ",
          "MG",
          "RN",
          "SP",
          "SP",
          "BA",
          "MA",
          "BA",
          "RJ",
          "MG",
          "SE",
          "RJ",
          "AM",
          "SP",
          "MG",
          "ES",
          "RN",
          "ES",
          "MG",
          "RJ",
          "RN",
          "SE",
          "ES",
          "MG",
          "RJ",
          "BA",
          "ES",
          "MG",
          "MA",
          "CE",
          "MG",
          "ES",
          "RJ",
          "RN",
          "SE",
          "MG",
          "RJ",
          "ES",
          "RN",
          "RJ",
          "RJ",
          "SE",
          "RN",
          "RJ",
          "BA",
          "RJ",
          "RN",
          "RJ",
          "RN",
          "AM",
          "MA",
          "RJ",
          "AM",
          "RJ",
          "MG",
          "MG",
          "MG",
          "BA",
          "RN",
          "RJ",
          "RJ",
          "SP",
          "BA",
          "MG",
          "RN",
          "BA",
          "SP",
          "RN",
          "RN",
          "AM",
          "RJ",
          "AL",
          "BA",
          "RJ",
          "RJ",
          "RJ",
          "RN",
          "RN",
          "BA",
          "RJ",
          "RN",
          "AM",
          "RJ",
          "RJ",
          "MG",
          "ES",
          "AM",
          "SE",
          "RJ",
          "RN",
          "SP",
          "SP",
          "RN",
          "SP",
          "SE",
          "SP",
          "RJ",
          "BA",
          "RJ",
          "MA",
          "SE",
          "RJ",
          "BA",
          "RJ",
          "RN",
          "RJ",
          "RJ",
          "ES",
          "RJ",
          "ES",
          "MG",
          "RJ",
          "RN",
          "RJ",
          "MG",
          "SP",
          "SP",
          "MA",
          "RJ",
          "RN",
          "RJ",
          "AP",
          "RJ",
          "SP",
          "BA",
          "BA",
          "AM",
          "AM",
          "ES",
          "RJ",
          "RJ",
          "RN",
          "RJ",
          "PR",
          "RJ",
          "RN",
          "RN",
          "SE",
          "PB",
          "SP",
          "RN",
          "MA",
          "SP",
          "MG",
          "AM",
          "RJ",
          "RJ",
          "SP",
          "RN",
          "RJ",
          "MA",
          "ES",
          "BA",
          "RJ",
          "SP",
          "RJ",
          "RN",
          "BA",
          "RJ",
          "AM",
          "RJ",
          "ES",
          "ES",
          "RJ",
          "SC",
          "RN",
          "RN",
          "RJ",
          "RJ",
          "SP",
          "MA",
          "ES",
          "AM",
          "MG",
          "RJ",
          "MA",
          "AM",
          "BA",
          "BA",
          "AL",
          "SP",
          "AL",
          "BA",
          "RN",
          "MG",
          "RJ",
          "RJ",
          "SP",
          "SP",
          "MA",
          "RN",
          "RJ",
          "RJ",
          "RJ",
          "AL",
          "SE",
          "ES",
          "RJ",
          "AM",
          "PR",
          "BA",
          "RJ",
          "RN",
          "ES",
          "RJ",
          "AL",
          "ES",
          "RJ",
          "SE",
          "RJ",
          "MA",
          "SP",
          "RJ",
          "RN",
          "RJ",
          "ES",
          "RJ",
          "RN",
          "RJ",
          "SP",
          "SP",
          "RJ",
          "RJ",
          "MA",
          "RJ",
          "ES",
          "PB",
          "BA",
          "SP",
          "RJ",
          "RN",
          "BA",
          "RJ",
          "SP",
          "PB",
          "PB",
          "RJ",
          "RJ",
          "RJ",
          "RJ",
          "RJ",
          "RJ",
          "ES",
          "ES",
          "RJ",
          "PA",
          "RJ",
          "RJ",
          "RJ",
          "RJ",
          "RJ",
          "PB",
          "RJ",
          "RJ",
          "RJ",
          "RN",
          "AM",
          "RJ",
          "SP",
          "RJ",
          "SP",
          "RJ",
          "SP",
          "BA",
          "RJ",
          "RJ",
          "RJ",
          "RJ",
          "RJ",
          "RJ",
          "ES",
          "MA",
          "SP",
          "ES",
          "ES",
          "SP",
          "SE",
          "SE",
          "RN",
          "RJ",
          "MG",
          "SP",
          "RJ",
          "SP",
          "RJ",
          "RN",
          "RJ",
          "SP",
          "RJ",
          "RJ",
          "SE",
          "RJ",
          "RJ",
          "RN",
          "SP",
          "RJ",
          "RJ",
          "RJ",
          "RJ",
          "RJ",
          "ES",
          "MG",
          "RJ",
          "RJ",
          "RJ",
          "SE",
          "ES",
          "MA",
          "ES",
          "RN",
          "SE",
          "RN",
          "SP",
          "RJ",
          "RJ",
          "RJ",
          "RN",
          "AM",
          "ES",
          "RJ",
          "RJ",
          "SP",
          "RJ",
          "ES",
          "ES",
          "ES",
          "RN",
          "RJ",
          "ES",
          "SP",
          "RJ",
          "ES",
          "RJ",
          "ES",
          "SP",
          "RJ",
          "ES",
          "ES",
          "RN",
          "RN",
          "RJ",
          "RJ",
          "RJ",
          "RN",
          "RN",
          "SP",
          "BA",
          "ES",
          "RJ",
          "RJ",
          "RJ",
          "RJ",
          "ES",
          "ES",
          "BA",
          "RJ",
          "RJ",
          "RJ",
          "RJ",
          "ES",
          "BA",
          "SP",
          "RJ",
          "ES",
          "RJ",
          "ES",
          "RJ",
          "RJ",
          "SE",
          "BA",
          "ES",
          "ES",
          "RJ",
          "ES",
          "SP",
          "SP",
          "BA",
          "CE",
          "ES",
          "RJ",
          "ES",
          "ES",
          "RJ",
          "SP",
          "ES",
          "RJ",
          "RN",
          "ES",
          "ES",
          "ES",
          "AM",
          "RJ",
          "BA",
          "RJ",
          "ES",
          "ES",
          "BA",
          "CE",
          "ES",
          "SP",
          "SP",
          "RN",
          "RJ",
          "SE",
          "SP",
          "RN",
          "SP",
          "ES",
          "SP",
          "RN",
          "BA",
          "RJ",
          "RJ",
          "BA",
          "SP",
          "ES",
          "SP",
          "BA",
          "RN",
          "SE",
          "ES",
          "AM",
          "SP",
          "RJ",
          "ES",
          "BA",
          "ES",
          "SP",
          "ES",
          "SP",
          "RN",
          "ES",
          "SE",
          "SP",
          "ES",
          "SP",
          "SP",
          "MA",
          "ES",
          "ES",
          "SP",
          "ES",
          "RN",
          "BA",
          "ES",
          "ES",
          "RN",
          "SP",
          "ES",
          "SP",
          "AM",
          "RJ",
          "RJ",
          "RN",
          "RN",
          "RN",
          "RN",
          "ES",
          "MA",
          "RN",
          "SP",
          "SP",
          "RN",
          "MA",
          "SP",
          "SP",
          "ES",
          "RN",
          "BA",
          "RN",
          "BA",
          "BA",
          "RN",
          "SE",
          "RN",
          "RN",
          "RN",
          "SE",
          "ES",
          "RN",
          "SP",
          "RN",
          "BA",
          "SE",
          "BA",
          "RN",
          "RN",
          "RN",
          "ES",
          "RJ",
          "ES",
          "BA",
          "SE",
          "ES",
          "RN",
          "RN",
          "RN",
          "SE",
          "RN",
          "RN",
          "ES",
          "RN",
          "SP",
          "RN",
          "BA",
          "RN",
          "SE",
          "BA",
          "BA",
          "SP",
          "RN",
          "SE",
          "SP",
          "RN",
          "BA",
          "ES",
          "ES",
          "SE",
          "BA",
          "SP",
          "BA",
          "RN",
          "SP",
          "RJ",
          "SE",
          "ES",
          "SE",
          "SP",
          "ES",
          "SP",
          "RN",
          "ES",
          "SE",
          "BA",
          "ES",
          "RN",
          "BA",
          "RN",
          "ES",
          "SE",
          "BA",
          "SE",
          "SP",
          "RN",
          "BA",
          "ES",
          "ES",
          "RJ",
          "RN",
          "RN",
          "BA",
          "ES",
          "AL",
          "RN",
          "SC",
          "BA",
          "BA",
          "ES",
          "RN",
          "RN",
          "AL",
          "RN",
          "SE",
          "RN",
          "AL",
          "RN",
          "BA",
          "BA",
          "ES",
          "RJ",
          "BA",
          "RJ",
          "SC",
          "BA",
          "BA",
          "ES",
          "RN",
          "ES",
          "BA",
          "SP",
          "RN",
          "BA",
          "SE",
          "RJ",
          "RJ",
          "BA",
          "SP",
          "RN",
          "ES",
          "ES",
          "RN",
          "RN",
          "BA",
          "SP",
          "ES",
          "BA",
          "BA",
          "RN",
          "RN",
          "BA",
          "AL",
          "RN",
          "RJ",
          "BA",
          "RN",
          "BA",
          "RJ",
          "RN",
          "BA",
          "RN",
          "ES",
          "BA",
          "RN",
          "RN",
          "BA",
          "ES",
          "RJ",
          "BA",
          "SP",
          "RJ",
          "RJ",
          "RN",
          "RJ",
          "SP",
          "ES",
          "ES",
          "RJ",
          "BA",
          "BA",
          "RN",
          "RN",
          "RN",
          "SE",
          "BA",
          "ES",
          "RN",
          "BA",
          "RN",
          "ES",
          "ES",
          "BA",
          "SP",
          "RN",
          "RN",
          "RN",
          "SE",
          "RN",
          "ES",
          "ES",
          "BA",
          "ES",
          "RN",
          "SP",
          "RN",
          "ES",
          "BA",
          "SP",
          "ES",
          "RN",
          "RN",
          "BA",
          "RJ",
          "ES",
          "ES",
          "BA",
          "RN",
          "RJ",
          "RN",
          "BA",
          "ES",
          "RN",
          "RN",
          "RN",
          "RN",
          "AL",
          "RN",
          "ES",
          "RJ",
          "ES",
          "RN",
          "RN",
          "BA",
          "RN",
          "RN",
          "ES",
          "SP",
          "RN",
          "RJ",
          "RN",
          "ES",
          "RN",
          "BA",
          "SE",
          "RN",
          "RN",
          "RN",
          "RN",
          "RN",
          "SP",
          "RN",
          "ES",
          "RN",
          "RN",
          "ES",
          "ES",
          "RN",
          "RJ",
          "RJ",
          "AM",
          "ES",
          "RJ",
          "RN",
          "BA",
          "RJ",
          "ES",
          "BA",
          "ES",
          "RN",
          "RJ",
          "ES",
          "RN",
          "RJ",
          "BA",
          "BA",
          "RN",
          "SE",
          "BA",
          "RJ",
          "ES",
          "RN",
          "ES",
          "ES",
          "RN",
          "RN",
          "AL",
          "RJ",
          "CE",
          "SE",
          "RN",
          "ES",
          "RN",
          "RN",
          "RN",
          "RJ",
          "RJ",
          "RJ",
          "ES",
          "ES",
          "RN",
          "BA",
          "ES",
          "RN",
          "RN",
          "ES",
          "ES",
          "BA",
          "RN",
          "BA",
          "RN",
          "RN",
          "ES",
          "ES",
          "RN",
          "CE",
          "RN",
          "RJ",
          "ES",
          "RN",
          "RJ",
          "ES",
          "RN",
          "ES",
          "ES",
          "RN",
          "ES",
          "RJ",
          "ES",
          "ES",
          "RN",
          "RN",
          "ES",
          "RJ",
          "SP",
          "ES",
          "ES",
          "RJ",
          "SP",
          "CE",
          "SP",
          "ES",
          "AL",
          "RN",
          "ES",
          "BA",
          "ES",
          "ES",
          "BA",
          "ES",
          "RN",
          "ES",
          "RJ",
          "RN",
          "RN",
          "RN",
          "SP",
          "RN",
          "RN",
          "ES",
          "SP",
          "ES",
          "SP",
          "AL",
          "RN",
          "RJ",
          "RN",
          "RJ",
          "RN",
          "SP",
          "RN",
          "RJ",
          "RJ",
          "BA",
          "RJ",
          "SP",
          "ES",
          "SP",
          "AM",
          "RN",
          "SP",
          "RJ",
          "ES",
          "RJ",
          "RN",
          "RN",
          "RJ",
          "RN",
          "ES",
          "ES",
          "RN",
          "AL",
          "RJ",
          "RN",
          "RJ",
          "AM",
          "RN",
          "AL",
          "RN",
          "RN",
          "ES",
          "RJ",
          "RN",
          "RN",
          "SP",
          "RN",
          "RJ",
          "RN",
          "ES",
          "SP",
          "ES",
          "RN",
          "RN",
          "RJ",
          "AL",
          "RJ",
          "RN",
          "RJ",
          "ES",
          "RJ",
          "RJ",
          "ES",
          "ES",
          "SP",
          "SP",
          "RN",
          "BA",
          "RJ",
          "RN",
          "RJ",
          "RJ",
          "ES",
          "RN",
          "ES",
          "RJ",
          "ES",
          "ES",
          "ES",
          "RJ",
          "RN",
          "BA",
          "RN",
          "RN",
          "ES",
          "ES",
          "RJ",
          "SP",
          "AL",
          "RN",
          "ES",
          "ES",
          "RN",
          "RN",
          "ES",
          "RN",
          "SC",
          "RN",
          "RJ",
          "BA",
          "ES",
          "SP",
          "RN",
          "RN",
          "SP",
          "ES",
          "BA",
          "RN",
          "ES",
          "RN",
          "RN",
          "AP",
          "SP",
          "RJ",
          "ES",
          "SP",
          "RJ",
          "BA",
          "ES",
          "ES",
          "ES",
          "ES",
          "ES",
          "ES",
          "RJ",
          "ES",
          "RJ",
          "BA",
          "RN",
          "ES",
          "ES",
          "RJ",
          "ES",
          "RN",
          "ES",
          "AL",
          "BA",
          "ES",
          "BA",
          "SE",
          "ES",
          "SE",
          "SP",
          "ES",
          "BA",
          "RN",
          "ES",
          "RJ",
          "SE",
          "ES",
          "ES",
          "ES",
          "RN",
          "RJ",
          "SP",
          "SP",
          "ES",
          "ES",
          "SP",
          "ES",
          "ES",
          "RJ",
          "AL",
          "BA",
          "SP",
          "ES",
          "ES",
          "RJ",
          "ES",
          "ES",
          "RJ",
          "ES",
          "ES",
          "RJ",
          "ES",
          "SP",
          "SE",
          "ES",
          "SP",
          "ES",
          "SP",
          "RJ",
          "RJ",
          "ES",
          "SE",
          "RJ",
          "SP",
          "RJ",
          "BA",
          "RJ",
          "SP",
          "RJ",
          "RJ",
          "ES",
          "SP",
          "ES",
          "RJ",
          "SE",
          "ES",
          "RN",
          "SE",
          "ES",
          "BA",
          "RN",
          "ES",
          "BA",
          "RJ",
          "RJ",
          "SC",
          "BA",
          "SE",
          "RJ",
          "RJ",
          "BA",
          "RJ",
          "RJ",
          "ES",
          "SP",
          "RJ",
          "RJ",
          "BA",
          "RJ",
          "RJ",
          "ES",
          "SE",
          "RJ",
          "PR",
          "RJ",
          "ES",
          "RJ",
          "RJ",
          "RJ",
          "SE",
          "ES",
          "RJ",
          "ES",
          "AM",
          "ES",
          "ES",
          "SC",
          "ES",
          "RJ",
          "ES",
          "ES",
          "AM",
          "RJ",
          "RJ",
          "RJ",
          "ES",
          "ES",
          "ES",
          "RJ",
          "ES",
          "ES",
          "RJ",
          "SE",
          "RJ",
          "RJ",
          "SP",
          "ES",
          "SE",
          "RJ",
          "BA",
          "RJ",
          "ES",
          "RJ",
          "ES",
          "BA",
          "RJ",
          "ES",
          "RN",
          "RJ",
          "BA",
          "ES",
          "RJ",
          "RJ",
          "ES",
          "BA",
          "AL",
          "RJ",
          "RJ",
          "BA",
          "RJ",
          "AM",
          "RJ",
          "SE",
          "RJ",
          "RJ",
          "RJ",
          "SE",
          "RN",
          "RJ",
          "RN",
          "BA",
          "SP",
          "AM",
          "SE",
          "RN",
          "RJ",
          "ES",
          "RN",
          "RN",
          "ES",
          "SE",
          "RN",
          "SE",
          "BA",
          "RJ",
          "RJ",
          "RJ",
          "RJ",
          "RN",
          "RJ",
          "AM",
          "AL",
          "RN",
          "ES",
          "RN",
          "ES",
          "RJ",
          "ES",
          "AP",
          "ES",
          "CE",
          "ES",
          "SE",
          "SE",
          "BA",
          "ES",
          "ES",
          "ES",
          "ES",
          "CE",
          "RJ",
          "RN",
          "PR",
          "ES",
          "RJ",
          "ES",
          "ES",
          "BA",
          "SE",
          "ES",
          "RJ",
          "ES",
          "RJ",
          "BA",
          "BA",
          "RJ",
          "CE",
          "ES",
          "RN",
          "ES",
          "SE",
          "CE",
          "PR",
          "ES",
          "ES",
          "ES",
          "RJ",
          "ES",
          "RN",
          "RN",
          "RJ",
          "BA",
          "ES",
          "RJ",
          "RS",
          "RN",
          "SC",
          "RN",
          "AP",
          "RJ",
          "PR",
          "ES",
          "AM",
          "SE",
          "RJ",
          "AP",
          "AP",
          "ES",
          "ES",
          "ES",
          "BA",
          "SP",
          "RN",
          "RJ",
          "CE",
          "ES",
          "BA",
          "ES",
          "BA",
          "RN",
          "PR",
          "RJ",
          "ES",
          "ES",
          "SE",
          "ES",
          "SP",
          "RJ",
          "RN",
          "SE",
          "ES",
          "ES",
          "RJ",
          "ES",
          "ES",
          "RN",
          "RN",
          "BA",
          "RJ",
          "RN",
          "BA",
          "ES",
          "AM",
          "ES",
          "PR",
          "ES",
          "CE",
          "RJ",
          "RJ",
          "RJ",
          "ES",
          "ES",
          "RJ",
          "BA",
          "ES",
          "RN",
          "ES",
          "ES",
          "AM",
          "RN",
          "BA",
          "BA",
          "RJ",
          "ES",
          "RN",
          "RJ",
          "RJ",
          "BA",
          "RJ",
          "RJ",
          "RJ",
          "AM",
          "ES",
          "RJ",
          "ES",
          "RJ",
          "RJ",
          "SE",
          "SP",
          "ES",
          "AM",
          "ES",
          "RJ",
          "BA",
          "SP",
          "BA",
          "RJ",
          "CE",
          "CE",
          "RJ",
          "ES",
          "RJ",
          "BA",
          "RN",
          "CE",
          "RN",
          "RJ",
          "BA",
          "PA",
          "RJ",
          "AM",
          "RJ",
          "ES",
          "ES",
          "ES",
          "RN",
          "CE",
          "ES",
          "RJ",
          "RJ",
          "ES",
          "ES",
          "ES",
          "ES",
          "RN",
          "AM",
          "AL",
          "RN",
          "AM",
          "AM",
          "ES",
          "BA",
          "SE",
          "RJ",
          "BA",
          "SE",
          "SE",
          "ES",
          "RN",
          "RJ",
          "RJ",
          "AM",
          "ES",
          "PR",
          "ES",
          "BA",
          "SE",
          "RJ",
          "RJ",
          "SE",
          "RN",
          "RJ",
          "ES",
          "BA",
          "AM",
          "BA",
          "RN",
          "AM",
          "BA",
          "ES",
          "ES",
          "RJ",
          "ES",
          "PR",
          "RJ",
          "RJ",
          "BA",
          "AM",
          "SE",
          "PR",
          "BA",
          "BA",
          "CE",
          "AM",
          "AM",
          "CE",
          "RJ"
         ],
         "xaxis": "x",
         "yaxis": "y"
        }
       ],
       "layout": {
        "barmode": "relative",
        "legend": {
         "tracegroupgap": 0
        },
        "margin": {
         "t": 60
        },
        "template": {
         "data": {
          "bar": [
           {
            "error_x": {
             "color": "#2a3f5f"
            },
            "error_y": {
             "color": "#2a3f5f"
            },
            "marker": {
             "line": {
              "color": "#E5ECF6",
              "width": 0.5
             },
             "pattern": {
              "fillmode": "overlay",
              "size": 10,
              "solidity": 0.2
             }
            },
            "type": "bar"
           }
          ],
          "barpolar": [
           {
            "marker": {
             "line": {
              "color": "#E5ECF6",
              "width": 0.5
             },
             "pattern": {
              "fillmode": "overlay",
              "size": 10,
              "solidity": 0.2
             }
            },
            "type": "barpolar"
           }
          ],
          "carpet": [
           {
            "aaxis": {
             "endlinecolor": "#2a3f5f",
             "gridcolor": "white",
             "linecolor": "white",
             "minorgridcolor": "white",
             "startlinecolor": "#2a3f5f"
            },
            "baxis": {
             "endlinecolor": "#2a3f5f",
             "gridcolor": "white",
             "linecolor": "white",
             "minorgridcolor": "white",
             "startlinecolor": "#2a3f5f"
            },
            "type": "carpet"
           }
          ],
          "choropleth": [
           {
            "colorbar": {
             "outlinewidth": 0,
             "ticks": ""
            },
            "type": "choropleth"
           }
          ],
          "contour": [
           {
            "colorbar": {
             "outlinewidth": 0,
             "ticks": ""
            },
            "colorscale": [
             [
              0,
              "#0d0887"
             ],
             [
              0.1111111111111111,
              "#46039f"
             ],
             [
              0.2222222222222222,
              "#7201a8"
             ],
             [
              0.3333333333333333,
              "#9c179e"
             ],
             [
              0.4444444444444444,
              "#bd3786"
             ],
             [
              0.5555555555555556,
              "#d8576b"
             ],
             [
              0.6666666666666666,
              "#ed7953"
             ],
             [
              0.7777777777777778,
              "#fb9f3a"
             ],
             [
              0.8888888888888888,
              "#fdca26"
             ],
             [
              1,
              "#f0f921"
             ]
            ],
            "type": "contour"
           }
          ],
          "contourcarpet": [
           {
            "colorbar": {
             "outlinewidth": 0,
             "ticks": ""
            },
            "type": "contourcarpet"
           }
          ],
          "heatmap": [
           {
            "colorbar": {
             "outlinewidth": 0,
             "ticks": ""
            },
            "colorscale": [
             [
              0,
              "#0d0887"
             ],
             [
              0.1111111111111111,
              "#46039f"
             ],
             [
              0.2222222222222222,
              "#7201a8"
             ],
             [
              0.3333333333333333,
              "#9c179e"
             ],
             [
              0.4444444444444444,
              "#bd3786"
             ],
             [
              0.5555555555555556,
              "#d8576b"
             ],
             [
              0.6666666666666666,
              "#ed7953"
             ],
             [
              0.7777777777777778,
              "#fb9f3a"
             ],
             [
              0.8888888888888888,
              "#fdca26"
             ],
             [
              1,
              "#f0f921"
             ]
            ],
            "type": "heatmap"
           }
          ],
          "heatmapgl": [
           {
            "colorbar": {
             "outlinewidth": 0,
             "ticks": ""
            },
            "colorscale": [
             [
              0,
              "#0d0887"
             ],
             [
              0.1111111111111111,
              "#46039f"
             ],
             [
              0.2222222222222222,
              "#7201a8"
             ],
             [
              0.3333333333333333,
              "#9c179e"
             ],
             [
              0.4444444444444444,
              "#bd3786"
             ],
             [
              0.5555555555555556,
              "#d8576b"
             ],
             [
              0.6666666666666666,
              "#ed7953"
             ],
             [
              0.7777777777777778,
              "#fb9f3a"
             ],
             [
              0.8888888888888888,
              "#fdca26"
             ],
             [
              1,
              "#f0f921"
             ]
            ],
            "type": "heatmapgl"
           }
          ],
          "histogram": [
           {
            "marker": {
             "pattern": {
              "fillmode": "overlay",
              "size": 10,
              "solidity": 0.2
             }
            },
            "type": "histogram"
           }
          ],
          "histogram2d": [
           {
            "colorbar": {
             "outlinewidth": 0,
             "ticks": ""
            },
            "colorscale": [
             [
              0,
              "#0d0887"
             ],
             [
              0.1111111111111111,
              "#46039f"
             ],
             [
              0.2222222222222222,
              "#7201a8"
             ],
             [
              0.3333333333333333,
              "#9c179e"
             ],
             [
              0.4444444444444444,
              "#bd3786"
             ],
             [
              0.5555555555555556,
              "#d8576b"
             ],
             [
              0.6666666666666666,
              "#ed7953"
             ],
             [
              0.7777777777777778,
              "#fb9f3a"
             ],
             [
              0.8888888888888888,
              "#fdca26"
             ],
             [
              1,
              "#f0f921"
             ]
            ],
            "type": "histogram2d"
           }
          ],
          "histogram2dcontour": [
           {
            "colorbar": {
             "outlinewidth": 0,
             "ticks": ""
            },
            "colorscale": [
             [
              0,
              "#0d0887"
             ],
             [
              0.1111111111111111,
              "#46039f"
             ],
             [
              0.2222222222222222,
              "#7201a8"
             ],
             [
              0.3333333333333333,
              "#9c179e"
             ],
             [
              0.4444444444444444,
              "#bd3786"
             ],
             [
              0.5555555555555556,
              "#d8576b"
             ],
             [
              0.6666666666666666,
              "#ed7953"
             ],
             [
              0.7777777777777778,
              "#fb9f3a"
             ],
             [
              0.8888888888888888,
              "#fdca26"
             ],
             [
              1,
              "#f0f921"
             ]
            ],
            "type": "histogram2dcontour"
           }
          ],
          "mesh3d": [
           {
            "colorbar": {
             "outlinewidth": 0,
             "ticks": ""
            },
            "type": "mesh3d"
           }
          ],
          "parcoords": [
           {
            "line": {
             "colorbar": {
              "outlinewidth": 0,
              "ticks": ""
             }
            },
            "type": "parcoords"
           }
          ],
          "pie": [
           {
            "automargin": true,
            "type": "pie"
           }
          ],
          "scatter": [
           {
            "fillpattern": {
             "fillmode": "overlay",
             "size": 10,
             "solidity": 0.2
            },
            "type": "scatter"
           }
          ],
          "scatter3d": [
           {
            "line": {
             "colorbar": {
              "outlinewidth": 0,
              "ticks": ""
             }
            },
            "marker": {
             "colorbar": {
              "outlinewidth": 0,
              "ticks": ""
             }
            },
            "type": "scatter3d"
           }
          ],
          "scattercarpet": [
           {
            "marker": {
             "colorbar": {
              "outlinewidth": 0,
              "ticks": ""
             }
            },
            "type": "scattercarpet"
           }
          ],
          "scattergeo": [
           {
            "marker": {
             "colorbar": {
              "outlinewidth": 0,
              "ticks": ""
             }
            },
            "type": "scattergeo"
           }
          ],
          "scattergl": [
           {
            "marker": {
             "colorbar": {
              "outlinewidth": 0,
              "ticks": ""
             }
            },
            "type": "scattergl"
           }
          ],
          "scattermapbox": [
           {
            "marker": {
             "colorbar": {
              "outlinewidth": 0,
              "ticks": ""
             }
            },
            "type": "scattermapbox"
           }
          ],
          "scatterpolar": [
           {
            "marker": {
             "colorbar": {
              "outlinewidth": 0,
              "ticks": ""
             }
            },
            "type": "scatterpolar"
           }
          ],
          "scatterpolargl": [
           {
            "marker": {
             "colorbar": {
              "outlinewidth": 0,
              "ticks": ""
             }
            },
            "type": "scatterpolargl"
           }
          ],
          "scatterternary": [
           {
            "marker": {
             "colorbar": {
              "outlinewidth": 0,
              "ticks": ""
             }
            },
            "type": "scatterternary"
           }
          ],
          "surface": [
           {
            "colorbar": {
             "outlinewidth": 0,
             "ticks": ""
            },
            "colorscale": [
             [
              0,
              "#0d0887"
             ],
             [
              0.1111111111111111,
              "#46039f"
             ],
             [
              0.2222222222222222,
              "#7201a8"
             ],
             [
              0.3333333333333333,
              "#9c179e"
             ],
             [
              0.4444444444444444,
              "#bd3786"
             ],
             [
              0.5555555555555556,
              "#d8576b"
             ],
             [
              0.6666666666666666,
              "#ed7953"
             ],
             [
              0.7777777777777778,
              "#fb9f3a"
             ],
             [
              0.8888888888888888,
              "#fdca26"
             ],
             [
              1,
              "#f0f921"
             ]
            ],
            "type": "surface"
           }
          ],
          "table": [
           {
            "cells": {
             "fill": {
              "color": "#EBF0F8"
             },
             "line": {
              "color": "white"
             }
            },
            "header": {
             "fill": {
              "color": "#C8D4E3"
             },
             "line": {
              "color": "white"
             }
            },
            "type": "table"
           }
          ]
         },
         "layout": {
          "annotationdefaults": {
           "arrowcolor": "#2a3f5f",
           "arrowhead": 0,
           "arrowwidth": 1
          },
          "autotypenumbers": "strict",
          "coloraxis": {
           "colorbar": {
            "outlinewidth": 0,
            "ticks": ""
           }
          },
          "colorscale": {
           "diverging": [
            [
             0,
             "#8e0152"
            ],
            [
             0.1,
             "#c51b7d"
            ],
            [
             0.2,
             "#de77ae"
            ],
            [
             0.3,
             "#f1b6da"
            ],
            [
             0.4,
             "#fde0ef"
            ],
            [
             0.5,
             "#f7f7f7"
            ],
            [
             0.6,
             "#e6f5d0"
            ],
            [
             0.7,
             "#b8e186"
            ],
            [
             0.8,
             "#7fbc41"
            ],
            [
             0.9,
             "#4d9221"
            ],
            [
             1,
             "#276419"
            ]
           ],
           "sequential": [
            [
             0,
             "#0d0887"
            ],
            [
             0.1111111111111111,
             "#46039f"
            ],
            [
             0.2222222222222222,
             "#7201a8"
            ],
            [
             0.3333333333333333,
             "#9c179e"
            ],
            [
             0.4444444444444444,
             "#bd3786"
            ],
            [
             0.5555555555555556,
             "#d8576b"
            ],
            [
             0.6666666666666666,
             "#ed7953"
            ],
            [
             0.7777777777777778,
             "#fb9f3a"
            ],
            [
             0.8888888888888888,
             "#fdca26"
            ],
            [
             1,
             "#f0f921"
            ]
           ],
           "sequentialminus": [
            [
             0,
             "#0d0887"
            ],
            [
             0.1111111111111111,
             "#46039f"
            ],
            [
             0.2222222222222222,
             "#7201a8"
            ],
            [
             0.3333333333333333,
             "#9c179e"
            ],
            [
             0.4444444444444444,
             "#bd3786"
            ],
            [
             0.5555555555555556,
             "#d8576b"
            ],
            [
             0.6666666666666666,
             "#ed7953"
            ],
            [
             0.7777777777777778,
             "#fb9f3a"
            ],
            [
             0.8888888888888888,
             "#fdca26"
            ],
            [
             1,
             "#f0f921"
            ]
           ]
          },
          "colorway": [
           "#636efa",
           "#EF553B",
           "#00cc96",
           "#ab63fa",
           "#FFA15A",
           "#19d3f3",
           "#FF6692",
           "#B6E880",
           "#FF97FF",
           "#FECB52"
          ],
          "font": {
           "color": "#2a3f5f"
          },
          "geo": {
           "bgcolor": "white",
           "lakecolor": "white",
           "landcolor": "#E5ECF6",
           "showlakes": true,
           "showland": true,
           "subunitcolor": "white"
          },
          "hoverlabel": {
           "align": "left"
          },
          "hovermode": "closest",
          "mapbox": {
           "style": "light"
          },
          "paper_bgcolor": "white",
          "plot_bgcolor": "#E5ECF6",
          "polar": {
           "angularaxis": {
            "gridcolor": "white",
            "linecolor": "white",
            "ticks": ""
           },
           "bgcolor": "#E5ECF6",
           "radialaxis": {
            "gridcolor": "white",
            "linecolor": "white",
            "ticks": ""
           }
          },
          "scene": {
           "xaxis": {
            "backgroundcolor": "#E5ECF6",
            "gridcolor": "white",
            "gridwidth": 2,
            "linecolor": "white",
            "showbackground": true,
            "ticks": "",
            "zerolinecolor": "white"
           },
           "yaxis": {
            "backgroundcolor": "#E5ECF6",
            "gridcolor": "white",
            "gridwidth": 2,
            "linecolor": "white",
            "showbackground": true,
            "ticks": "",
            "zerolinecolor": "white"
           },
           "zaxis": {
            "backgroundcolor": "#E5ECF6",
            "gridcolor": "white",
            "gridwidth": 2,
            "linecolor": "white",
            "showbackground": true,
            "ticks": "",
            "zerolinecolor": "white"
           }
          },
          "shapedefaults": {
           "line": {
            "color": "#2a3f5f"
           }
          },
          "ternary": {
           "aaxis": {
            "gridcolor": "white",
            "linecolor": "white",
            "ticks": ""
           },
           "baxis": {
            "gridcolor": "white",
            "linecolor": "white",
            "ticks": ""
           },
           "bgcolor": "#E5ECF6",
           "caxis": {
            "gridcolor": "white",
            "linecolor": "white",
            "ticks": ""
           }
          },
          "title": {
           "x": 0.05
          },
          "xaxis": {
           "automargin": true,
           "gridcolor": "white",
           "linecolor": "white",
           "ticks": "",
           "title": {
            "standoff": 15
           },
           "zerolinecolor": "white",
           "zerolinewidth": 2
          },
          "yaxis": {
           "automargin": true,
           "gridcolor": "white",
           "linecolor": "white",
           "ticks": "",
           "title": {
            "standoff": 15
           },
           "zerolinecolor": "white",
           "zerolinewidth": 2
          }
         }
        },
        "xaxis": {
         "anchor": "y",
         "domain": [
          0,
          1
         ],
         "title": {
          "text": "Estado"
         }
        },
        "yaxis": {
         "anchor": "x",
         "domain": [
          0,
          1
         ],
         "title": {
          "text": "count"
         }
        }
       }
      }
     },
     "metadata": {},
     "output_type": "display_data"
    }
   ],
   "source": [
    "fig = px.histogram(abril_data, x='Estado')\n",
    "fig.show()"
   ]
  },
  {
   "cell_type": "markdown",
   "metadata": {},
   "source": [
    "**Gráfico 2: Número de Poços de Petróleo Iniciados por Ano**\n",
    "\n"
   ]
  },
  {
   "cell_type": "code",
   "execution_count": 85,
   "metadata": {},
   "outputs": [],
   "source": [
    "abril_data['Ano_Inicio'] = abril_data['Inicio'].dt.year"
   ]
  },
  {
   "cell_type": "code",
   "execution_count": 91,
   "metadata": {},
   "outputs": [],
   "source": [
    "pocos_por_ano = abril_data.groupby('Ano_Inicio')['Poco_ANP'].count()"
   ]
  },
  {
   "cell_type": "code",
   "execution_count": 101,
   "metadata": {},
   "outputs": [
    {
     "data": {
      "application/vnd.plotly.v1+json": {
       "config": {
        "plotlyServerURL": "https://plot.ly"
       },
       "data": [
        {
         "hovertemplate": "x=%{x}<br>y=%{y}<extra></extra>",
         "legendgroup": "",
         "marker": {
          "color": "#636efa",
          "symbol": "circle"
         },
         "mode": "markers",
         "name": "",
         "orientation": "v",
         "showlegend": false,
         "type": "scatter",
         "x": [
          1998,
          1999,
          2000,
          2001,
          2002,
          2003,
          2004,
          2005,
          2006,
          2007,
          2008,
          2009,
          2010,
          2011,
          2012,
          2013,
          2014,
          2015,
          2016,
          2017,
          2018,
          2019,
          2020,
          2021,
          2022,
          2023
         ],
         "xaxis": "x",
         "y": [
          41,
          47,
          52,
          115,
          65,
          76,
          73,
          71,
          84,
          112,
          140,
          106,
          117,
          165,
          132,
          69,
          42,
          48,
          18,
          27,
          27,
          31,
          17,
          23,
          26,
          6
         ],
         "yaxis": "y"
        }
       ],
       "layout": {
        "legend": {
         "tracegroupgap": 0
        },
        "margin": {
         "t": 60
        },
        "template": {
         "data": {
          "bar": [
           {
            "error_x": {
             "color": "#2a3f5f"
            },
            "error_y": {
             "color": "#2a3f5f"
            },
            "marker": {
             "line": {
              "color": "#E5ECF6",
              "width": 0.5
             },
             "pattern": {
              "fillmode": "overlay",
              "size": 10,
              "solidity": 0.2
             }
            },
            "type": "bar"
           }
          ],
          "barpolar": [
           {
            "marker": {
             "line": {
              "color": "#E5ECF6",
              "width": 0.5
             },
             "pattern": {
              "fillmode": "overlay",
              "size": 10,
              "solidity": 0.2
             }
            },
            "type": "barpolar"
           }
          ],
          "carpet": [
           {
            "aaxis": {
             "endlinecolor": "#2a3f5f",
             "gridcolor": "white",
             "linecolor": "white",
             "minorgridcolor": "white",
             "startlinecolor": "#2a3f5f"
            },
            "baxis": {
             "endlinecolor": "#2a3f5f",
             "gridcolor": "white",
             "linecolor": "white",
             "minorgridcolor": "white",
             "startlinecolor": "#2a3f5f"
            },
            "type": "carpet"
           }
          ],
          "choropleth": [
           {
            "colorbar": {
             "outlinewidth": 0,
             "ticks": ""
            },
            "type": "choropleth"
           }
          ],
          "contour": [
           {
            "colorbar": {
             "outlinewidth": 0,
             "ticks": ""
            },
            "colorscale": [
             [
              0,
              "#0d0887"
             ],
             [
              0.1111111111111111,
              "#46039f"
             ],
             [
              0.2222222222222222,
              "#7201a8"
             ],
             [
              0.3333333333333333,
              "#9c179e"
             ],
             [
              0.4444444444444444,
              "#bd3786"
             ],
             [
              0.5555555555555556,
              "#d8576b"
             ],
             [
              0.6666666666666666,
              "#ed7953"
             ],
             [
              0.7777777777777778,
              "#fb9f3a"
             ],
             [
              0.8888888888888888,
              "#fdca26"
             ],
             [
              1,
              "#f0f921"
             ]
            ],
            "type": "contour"
           }
          ],
          "contourcarpet": [
           {
            "colorbar": {
             "outlinewidth": 0,
             "ticks": ""
            },
            "type": "contourcarpet"
           }
          ],
          "heatmap": [
           {
            "colorbar": {
             "outlinewidth": 0,
             "ticks": ""
            },
            "colorscale": [
             [
              0,
              "#0d0887"
             ],
             [
              0.1111111111111111,
              "#46039f"
             ],
             [
              0.2222222222222222,
              "#7201a8"
             ],
             [
              0.3333333333333333,
              "#9c179e"
             ],
             [
              0.4444444444444444,
              "#bd3786"
             ],
             [
              0.5555555555555556,
              "#d8576b"
             ],
             [
              0.6666666666666666,
              "#ed7953"
             ],
             [
              0.7777777777777778,
              "#fb9f3a"
             ],
             [
              0.8888888888888888,
              "#fdca26"
             ],
             [
              1,
              "#f0f921"
             ]
            ],
            "type": "heatmap"
           }
          ],
          "heatmapgl": [
           {
            "colorbar": {
             "outlinewidth": 0,
             "ticks": ""
            },
            "colorscale": [
             [
              0,
              "#0d0887"
             ],
             [
              0.1111111111111111,
              "#46039f"
             ],
             [
              0.2222222222222222,
              "#7201a8"
             ],
             [
              0.3333333333333333,
              "#9c179e"
             ],
             [
              0.4444444444444444,
              "#bd3786"
             ],
             [
              0.5555555555555556,
              "#d8576b"
             ],
             [
              0.6666666666666666,
              "#ed7953"
             ],
             [
              0.7777777777777778,
              "#fb9f3a"
             ],
             [
              0.8888888888888888,
              "#fdca26"
             ],
             [
              1,
              "#f0f921"
             ]
            ],
            "type": "heatmapgl"
           }
          ],
          "histogram": [
           {
            "marker": {
             "pattern": {
              "fillmode": "overlay",
              "size": 10,
              "solidity": 0.2
             }
            },
            "type": "histogram"
           }
          ],
          "histogram2d": [
           {
            "colorbar": {
             "outlinewidth": 0,
             "ticks": ""
            },
            "colorscale": [
             [
              0,
              "#0d0887"
             ],
             [
              0.1111111111111111,
              "#46039f"
             ],
             [
              0.2222222222222222,
              "#7201a8"
             ],
             [
              0.3333333333333333,
              "#9c179e"
             ],
             [
              0.4444444444444444,
              "#bd3786"
             ],
             [
              0.5555555555555556,
              "#d8576b"
             ],
             [
              0.6666666666666666,
              "#ed7953"
             ],
             [
              0.7777777777777778,
              "#fb9f3a"
             ],
             [
              0.8888888888888888,
              "#fdca26"
             ],
             [
              1,
              "#f0f921"
             ]
            ],
            "type": "histogram2d"
           }
          ],
          "histogram2dcontour": [
           {
            "colorbar": {
             "outlinewidth": 0,
             "ticks": ""
            },
            "colorscale": [
             [
              0,
              "#0d0887"
             ],
             [
              0.1111111111111111,
              "#46039f"
             ],
             [
              0.2222222222222222,
              "#7201a8"
             ],
             [
              0.3333333333333333,
              "#9c179e"
             ],
             [
              0.4444444444444444,
              "#bd3786"
             ],
             [
              0.5555555555555556,
              "#d8576b"
             ],
             [
              0.6666666666666666,
              "#ed7953"
             ],
             [
              0.7777777777777778,
              "#fb9f3a"
             ],
             [
              0.8888888888888888,
              "#fdca26"
             ],
             [
              1,
              "#f0f921"
             ]
            ],
            "type": "histogram2dcontour"
           }
          ],
          "mesh3d": [
           {
            "colorbar": {
             "outlinewidth": 0,
             "ticks": ""
            },
            "type": "mesh3d"
           }
          ],
          "parcoords": [
           {
            "line": {
             "colorbar": {
              "outlinewidth": 0,
              "ticks": ""
             }
            },
            "type": "parcoords"
           }
          ],
          "pie": [
           {
            "automargin": true,
            "type": "pie"
           }
          ],
          "scatter": [
           {
            "fillpattern": {
             "fillmode": "overlay",
             "size": 10,
             "solidity": 0.2
            },
            "type": "scatter"
           }
          ],
          "scatter3d": [
           {
            "line": {
             "colorbar": {
              "outlinewidth": 0,
              "ticks": ""
             }
            },
            "marker": {
             "colorbar": {
              "outlinewidth": 0,
              "ticks": ""
             }
            },
            "type": "scatter3d"
           }
          ],
          "scattercarpet": [
           {
            "marker": {
             "colorbar": {
              "outlinewidth": 0,
              "ticks": ""
             }
            },
            "type": "scattercarpet"
           }
          ],
          "scattergeo": [
           {
            "marker": {
             "colorbar": {
              "outlinewidth": 0,
              "ticks": ""
             }
            },
            "type": "scattergeo"
           }
          ],
          "scattergl": [
           {
            "marker": {
             "colorbar": {
              "outlinewidth": 0,
              "ticks": ""
             }
            },
            "type": "scattergl"
           }
          ],
          "scattermapbox": [
           {
            "marker": {
             "colorbar": {
              "outlinewidth": 0,
              "ticks": ""
             }
            },
            "type": "scattermapbox"
           }
          ],
          "scatterpolar": [
           {
            "marker": {
             "colorbar": {
              "outlinewidth": 0,
              "ticks": ""
             }
            },
            "type": "scatterpolar"
           }
          ],
          "scatterpolargl": [
           {
            "marker": {
             "colorbar": {
              "outlinewidth": 0,
              "ticks": ""
             }
            },
            "type": "scatterpolargl"
           }
          ],
          "scatterternary": [
           {
            "marker": {
             "colorbar": {
              "outlinewidth": 0,
              "ticks": ""
             }
            },
            "type": "scatterternary"
           }
          ],
          "surface": [
           {
            "colorbar": {
             "outlinewidth": 0,
             "ticks": ""
            },
            "colorscale": [
             [
              0,
              "#0d0887"
             ],
             [
              0.1111111111111111,
              "#46039f"
             ],
             [
              0.2222222222222222,
              "#7201a8"
             ],
             [
              0.3333333333333333,
              "#9c179e"
             ],
             [
              0.4444444444444444,
              "#bd3786"
             ],
             [
              0.5555555555555556,
              "#d8576b"
             ],
             [
              0.6666666666666666,
              "#ed7953"
             ],
             [
              0.7777777777777778,
              "#fb9f3a"
             ],
             [
              0.8888888888888888,
              "#fdca26"
             ],
             [
              1,
              "#f0f921"
             ]
            ],
            "type": "surface"
           }
          ],
          "table": [
           {
            "cells": {
             "fill": {
              "color": "#EBF0F8"
             },
             "line": {
              "color": "white"
             }
            },
            "header": {
             "fill": {
              "color": "#C8D4E3"
             },
             "line": {
              "color": "white"
             }
            },
            "type": "table"
           }
          ]
         },
         "layout": {
          "annotationdefaults": {
           "arrowcolor": "#2a3f5f",
           "arrowhead": 0,
           "arrowwidth": 1
          },
          "autotypenumbers": "strict",
          "coloraxis": {
           "colorbar": {
            "outlinewidth": 0,
            "ticks": ""
           }
          },
          "colorscale": {
           "diverging": [
            [
             0,
             "#8e0152"
            ],
            [
             0.1,
             "#c51b7d"
            ],
            [
             0.2,
             "#de77ae"
            ],
            [
             0.3,
             "#f1b6da"
            ],
            [
             0.4,
             "#fde0ef"
            ],
            [
             0.5,
             "#f7f7f7"
            ],
            [
             0.6,
             "#e6f5d0"
            ],
            [
             0.7,
             "#b8e186"
            ],
            [
             0.8,
             "#7fbc41"
            ],
            [
             0.9,
             "#4d9221"
            ],
            [
             1,
             "#276419"
            ]
           ],
           "sequential": [
            [
             0,
             "#0d0887"
            ],
            [
             0.1111111111111111,
             "#46039f"
            ],
            [
             0.2222222222222222,
             "#7201a8"
            ],
            [
             0.3333333333333333,
             "#9c179e"
            ],
            [
             0.4444444444444444,
             "#bd3786"
            ],
            [
             0.5555555555555556,
             "#d8576b"
            ],
            [
             0.6666666666666666,
             "#ed7953"
            ],
            [
             0.7777777777777778,
             "#fb9f3a"
            ],
            [
             0.8888888888888888,
             "#fdca26"
            ],
            [
             1,
             "#f0f921"
            ]
           ],
           "sequentialminus": [
            [
             0,
             "#0d0887"
            ],
            [
             0.1111111111111111,
             "#46039f"
            ],
            [
             0.2222222222222222,
             "#7201a8"
            ],
            [
             0.3333333333333333,
             "#9c179e"
            ],
            [
             0.4444444444444444,
             "#bd3786"
            ],
            [
             0.5555555555555556,
             "#d8576b"
            ],
            [
             0.6666666666666666,
             "#ed7953"
            ],
            [
             0.7777777777777778,
             "#fb9f3a"
            ],
            [
             0.8888888888888888,
             "#fdca26"
            ],
            [
             1,
             "#f0f921"
            ]
           ]
          },
          "colorway": [
           "#636efa",
           "#EF553B",
           "#00cc96",
           "#ab63fa",
           "#FFA15A",
           "#19d3f3",
           "#FF6692",
           "#B6E880",
           "#FF97FF",
           "#FECB52"
          ],
          "font": {
           "color": "#2a3f5f"
          },
          "geo": {
           "bgcolor": "white",
           "lakecolor": "white",
           "landcolor": "#E5ECF6",
           "showlakes": true,
           "showland": true,
           "subunitcolor": "white"
          },
          "hoverlabel": {
           "align": "left"
          },
          "hovermode": "closest",
          "mapbox": {
           "style": "light"
          },
          "paper_bgcolor": "white",
          "plot_bgcolor": "#E5ECF6",
          "polar": {
           "angularaxis": {
            "gridcolor": "white",
            "linecolor": "white",
            "ticks": ""
           },
           "bgcolor": "#E5ECF6",
           "radialaxis": {
            "gridcolor": "white",
            "linecolor": "white",
            "ticks": ""
           }
          },
          "scene": {
           "xaxis": {
            "backgroundcolor": "#E5ECF6",
            "gridcolor": "white",
            "gridwidth": 2,
            "linecolor": "white",
            "showbackground": true,
            "ticks": "",
            "zerolinecolor": "white"
           },
           "yaxis": {
            "backgroundcolor": "#E5ECF6",
            "gridcolor": "white",
            "gridwidth": 2,
            "linecolor": "white",
            "showbackground": true,
            "ticks": "",
            "zerolinecolor": "white"
           },
           "zaxis": {
            "backgroundcolor": "#E5ECF6",
            "gridcolor": "white",
            "gridwidth": 2,
            "linecolor": "white",
            "showbackground": true,
            "ticks": "",
            "zerolinecolor": "white"
           }
          },
          "shapedefaults": {
           "line": {
            "color": "#2a3f5f"
           }
          },
          "ternary": {
           "aaxis": {
            "gridcolor": "white",
            "linecolor": "white",
            "ticks": ""
           },
           "baxis": {
            "gridcolor": "white",
            "linecolor": "white",
            "ticks": ""
           },
           "bgcolor": "#E5ECF6",
           "caxis": {
            "gridcolor": "white",
            "linecolor": "white",
            "ticks": ""
           }
          },
          "title": {
           "x": 0.05
          },
          "xaxis": {
           "automargin": true,
           "gridcolor": "white",
           "linecolor": "white",
           "ticks": "",
           "title": {
            "standoff": 15
           },
           "zerolinecolor": "white",
           "zerolinewidth": 2
          },
          "yaxis": {
           "automargin": true,
           "gridcolor": "white",
           "linecolor": "white",
           "ticks": "",
           "title": {
            "standoff": 15
           },
           "zerolinecolor": "white",
           "zerolinewidth": 2
          }
         }
        },
        "xaxis": {
         "anchor": "y",
         "domain": [
          0,
          1
         ],
         "title": {
          "text": "x"
         }
        },
        "yaxis": {
         "anchor": "x",
         "domain": [
          0,
          1
         ],
         "title": {
          "text": "y"
         }
        }
       }
      }
     },
     "metadata": {},
     "output_type": "display_data"
    }
   ],
   "source": [
    "fig = px.scatter(x=pocos_por_ano.index, y=pocos_por_ano.values)\n",
    "fig.show()"
   ]
  },
  {
   "cell_type": "code",
   "execution_count": 100,
   "metadata": {},
   "outputs": [
    {
     "data": {
      "text/plain": [
       "array([ 41,  47,  52, 115,  65,  76,  73,  71,  84, 112, 140, 106, 117,\n",
       "       165, 132,  69,  42,  48,  18,  27,  27,  31,  17,  23,  26,   6],\n",
       "      dtype=int64)"
      ]
     },
     "execution_count": 100,
     "metadata": {},
     "output_type": "execute_result"
    }
   ],
   "source": [
    "pocos_por_ano.values"
   ]
  },
  {
   "cell_type": "code",
   "execution_count": null,
   "metadata": {},
   "outputs": [],
   "source": []
  }
 ],
 "metadata": {
  "kernelspec": {
   "display_name": "base",
   "language": "python",
   "name": "python3"
  },
  "language_info": {
   "codemirror_mode": {
    "name": "ipython",
    "version": 3
   },
   "file_extension": ".py",
   "mimetype": "text/x-python",
   "name": "python",
   "nbconvert_exporter": "python",
   "pygments_lexer": "ipython3",
   "version": "3.9.13"
  }
 },
 "nbformat": 4,
 "nbformat_minor": 2
}
